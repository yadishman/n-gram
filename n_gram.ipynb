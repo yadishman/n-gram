{
  "nbformat": 4,
  "nbformat_minor": 0,
  "metadata": {
    "colab": {
      "provenance": [],
      "authorship_tag": "ABX9TyNBRFADRSNfC4LdbL3mRoHB",
      "include_colab_link": true
    },
    "kernelspec": {
      "name": "python3",
      "display_name": "Python 3"
    },
    "language_info": {
      "name": "python"
    }
  },
  "cells": [
    {
      "cell_type": "markdown",
      "metadata": {
        "id": "view-in-github",
        "colab_type": "text"
      },
      "source": [
        "<a href=\"https://colab.research.google.com/github/yadishman/n-gram/blob/main/n_gram.ipynb\" target=\"_parent\"><img src=\"https://colab.research.google.com/assets/colab-badge.svg\" alt=\"Open In Colab\"/></a>"
      ]
    },
    {
      "cell_type": "code",
      "source": [
        "import random\n",
        "import math"
      ],
      "metadata": {
        "id": "LRLKyyiQJrGY"
      },
      "execution_count": 1,
      "outputs": []
    },
    {
      "cell_type": "code",
      "execution_count": 2,
      "metadata": {
        "id": "R4768416k_Cz"
      },
      "outputs": [],
      "source": [
        "#Reading file\n",
        "\n",
        "test= open(\"GPAC.txt\", 'r',encoding=\"utf8\")\n",
        "word=\"\"\n",
        "check= test.read()\n"
      ]
    },
    {
      "cell_type": "code",
      "source": [
        "#unigram\n",
        "temp=check.split()"
      ],
      "metadata": {
        "id": "-I0Tp4x1sjPH"
      },
      "execution_count": 3,
      "outputs": []
    },
    {
      "cell_type": "code",
      "source": [
        "#functions to bulid the n grams\n",
        "def converge(lists):\n",
        "    words=\"\"\n",
        "    for items in lists:\n",
        "        words+=\" \"+items\n",
        "    return words\n",
        "\n",
        "def n_gram(size, words):\n",
        "    n_gram=[]\n",
        "    begin=0\n",
        "    while(size<=len(words)):\n",
        "        n_gram.append(converge(words[begin:size]))\n",
        "        begin+=1\n",
        "        size+=1\n",
        "    return n_gram\n",
        "def apperiance(sequence):\n",
        "    temp={}\n",
        "    for item in sequence:\n",
        "        if item in temp:\n",
        "            temp[item]+=1\n",
        "        else:\n",
        "            temp[item]=1\n",
        "    return temp\n",
        "def get_first_n_elements(dictionary, n):\n",
        "    sorted_items = sorted(dictionary.items(),reverse=True, key=lambda x: x[1])\n",
        "    return sorted_items[:n]\n",
        "\n",
        "def probablity(sorted_list, total_length):\n",
        "  probablity={}\n",
        "  for items in sorted_list:\n",
        "    probablity[items[0]]=items[1]/total_length\n",
        "  return probablity\n",
        "\n",
        "def generate_sentence(n_gram_model):\n",
        "     sentence = []\n",
        "     current_gram = random.choice(n_gram_model)\n",
        "     sentence.extend(current_gram.split())\n",
        "     while len(sentence) < 8:\n",
        "      next_word = random.choice([gram for gram in n_gram_model if gram.split()[0]==current_gram.split()[-1]])\n",
        "      sentence.append(next_word.split()[-1])\n",
        "      current_gram = next_word\n",
        "\n",
        "     generated_sentence = ' '.join(sentence)\n",
        "     return generated_sentence\n",
        "\n",
        "def calculate_perplexity(n_gram_model, test_set):\n",
        "    n = len(n_gram_model[0].split())\n",
        "    total_log_probability = 0\n",
        "    word_count = 0\n",
        "    for sentence in test_set:\n",
        "        words = sentence.split()\n",
        "        for i in range(n-1, len(words)):\n",
        "            n_gram = ' '.join(words[i-n+1:i+1])\n",
        "            if n_gram in n_gram_model:\n",
        "                total_log_probability += -math.log(n_gram_model[n_gram])\n",
        "            else:\n",
        "                total_log_probability += -math.log(1e-10)\n",
        "            word_count += 1\n",
        "    average_log_probability = total_log_probability / word_count\n",
        "    perplexity = math.exp(average_log_probability)\n",
        "    return perplexity\n",
        "\n"
      ],
      "metadata": {
        "id": "pc22Wh4Rr-b8"
      },
      "execution_count": 4,
      "outputs": []
    },
    {
      "cell_type": "code",
      "source": [
        "# 4 types of n grams\n",
        "one_node= temp\n",
        "#few samples\n",
        "print(one_node[:12])\n",
        "#top 10 most likely n-grams\n",
        "final=apperiance(one_node)\n",
        "finalr= get_first_n_elements(final,10)\n",
        "print(probablity(finalr, len(one_node)))\n",
        "\n"
      ],
      "metadata": {
        "colab": {
          "base_uri": "https://localhost:8080/"
        },
        "id": "P2ASO_22wuz-",
        "outputId": "a69a3e68-7b64-4c19-e6ca-7356f6d403e9"
      },
      "execution_count": 5,
      "outputs": [
        {
          "output_type": "stream",
          "name": "stdout",
          "text": [
            "['ምን', 'መሰላችሁ?', '(አንባቢያን)', 'ኢትዮጵያ', 'በተደጋጋሚ', 'ጥሪው', 'ደርሷት', 'ልትታደመው', 'ያልቻለችው', 'የአለም', 'የእግር', 'ኳስ']\n",
            "{'።': 0.026690667581987224, 'ላይ': 0.009188750291676373, 'ነው': 0.00914271401452662, '፣': 0.008589066240887643, '፤': 0.004997036422312827, 'ውስጥ': 0.004209863846148844, 'ወደ': 0.004033862957902206, 'እና': 0.0038933904655085714, '?': 0.003723145642774141, 'ጋር': 0.003556623892200797}\n"
          ]
        }
      ]
    },
    {
      "cell_type": "code",
      "source": [
        "two_node= n_gram(2,temp)\n",
        "#few samples\n",
        "print(two_node[:12])\n",
        "#top 10 most likely n-grams\n",
        "final=apperiance(two_node)\n",
        "finalr= get_first_n_elements(final,10)\n",
        "print(probablity(finalr, len(two_node)))\n"
      ],
      "metadata": {
        "id": "6MZtPvyAaO_Y"
      },
      "execution_count": null,
      "outputs": []
    },
    {
      "cell_type": "code",
      "source": [
        "three_node= n_gram(3,temp)\n",
        "#few samples\n",
        "print(three_node[:12])\n",
        "#top 10 most likely n-grams\n",
        "final=apperiance(three_node)\n",
        "finalr= get_first_n_elements(final,10)\n",
        "print(probablity(finalr, len(three_node)))\n"
      ],
      "metadata": {
        "id": "_VHJn24hPVr9"
      },
      "execution_count": null,
      "outputs": []
    },
    {
      "cell_type": "code",
      "source": [
        "fourth_node=n_gram(4,temp)\n",
        "#few samples\n",
        "print(fourth_node[:12])\n",
        "#top 10 most likely n-grams\n",
        "final=apperiance(fourth_node)\n",
        "finalr= get_first_n_elements(final,10)\n",
        "print(probablity(finalr, len(fourth_node)))\n"
      ],
      "metadata": {
        "id": "pheOb4HSQxnl"
      },
      "execution_count": null,
      "outputs": []
    },
    {
      "cell_type": "code",
      "source": [
        "#highest probablity of n grams\n",
        "final=apperiance(three_node)\n",
        "chance=final[\"ኢትዮጵያ ታሪካዊ ሀገር ናት\"]\n",
        "probablity= chance/len(three_node)\n",
        "\n",
        "print(\"probablity of ኢትዮጵያ ታሪካዊ ሀገር ናት is : \", )"
      ],
      "metadata": {
        "id": "FT4e5xUAx9xG"
      },
      "execution_count": null,
      "outputs": []
    },
    {
      "cell_type": "code",
      "source": [
        "#generate sentence\n",
        "print(\"sentence generated by unigram \", generate_sentence(one_node))\n",
        "print(\"sentence generated by  bigram \", generate_sentence(two_node))\n",
        "print(\"sentence generated by trigram \", generate_sentence(three_node))\n",
        "print(\"sentence generated by quadragram \", generate_sentence(fourth_node))"
      ],
      "metadata": {
        "id": "yY7qiM_z_CDq",
        "colab": {
          "base_uri": "https://localhost:8080/"
        },
        "outputId": "2b21a15d-6b76-4287-ba96-58f9a6008d32"
      },
      "execution_count": 6,
      "outputs": [
        {
          "output_type": "stream",
          "name": "stdout",
          "text": [
            "ግቡና  this is current gram\n",
            "this is sentence  ['ግቡና']\n",
            "sentence generated by unigram  ግቡና ግቡና ግቡና ግቡና ግቡና ግቡና ግቡና ግቡና\n"
          ]
        }
      ]
    },
    {
      "cell_type": "code",
      "source": [
        "#calculate perplexity\n",
        "print(\"perplexity of uni gram \", calculate_perplexity(one_node, ['ኢትዮጵያ', 'በተደጋጋሚ', 'ጥሪው', 'ደርሷት']))\n",
        "print(\"perplexity of uni gram \", calculate_perplexity(two_node, ['ኢትዮጵያ በተደጋጋሚ', 'ጥሪው ደርሷት']))\n",
        "print(\"perplexity of uni gram \", calculate_perplexity(three_node, ['ኢትዮጵያ በተደጋጋሚ ጥሪው', 'ኢትዮጵያ ታሪካዊ ሀገር']))\n",
        "print(\"perplexity of uni gram \", calculate_perplexity(three_node, ['ኢትዮጵያ በተደጋጋሚ ጥሪው ደርሷት', 'ኢትዮጵያ ታሪካዊ ሀገር ናት']))\n"
      ],
      "metadata": {
        "id": "oJ3klZlx_1jO"
      },
      "execution_count": null,
      "outputs": []
    },
    {
      "cell_type": "code",
      "source": [],
      "metadata": {
        "id": "0YITNBIZBgyV"
      },
      "execution_count": null,
      "outputs": []
    }
  ]
}